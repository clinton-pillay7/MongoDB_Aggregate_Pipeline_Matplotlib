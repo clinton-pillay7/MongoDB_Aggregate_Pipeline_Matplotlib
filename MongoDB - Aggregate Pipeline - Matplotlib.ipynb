{
 "cells": [
  {
   "cell_type": "code",
   "execution_count": 14,
   "metadata": {},
   "outputs": [],
   "source": [
    "#bulk change all to string-date to date-date format\n",
    "#db.students.find().forEach(function(obj) {\n",
    "#  obj.cust_id = ObjectId(obj.cust_id);\n",
    "#  db.students.save(obj);\n",
    "#});\n"
   ]
  },
  {
   "cell_type": "code",
   "execution_count": 58,
   "metadata": {},
   "outputs": [],
   "source": [
    "from pymongo import MongoClient\n",
    "import requests\n",
    "import pandas as pd\n",
    "import matplotlib.pylab as plt\n",
    "import datetime\n",
    "import pytz\n",
    "from bson.json_util import dumps\n",
    "\n",
    "\n",
    "\n",
    "def convertint(bdic):\n",
    "    for key, value in bdic.items():\n",
    "        try:\n",
    "            bdic[key] = float(value)\n",
    "        except:\n",
    "            pass\n",
    "    return bdic\n",
    "\n",
    "def convertdate(mydstring):\n",
    "    my_date = datetime.datetime.strptime(mydstring, \"%Y-%m-%d\")\n",
    "    return my_date\n",
    "    \n",
    "\n",
    "\n",
    "\n",
    "base_url = \"https://www.alphavantage.co/query?function=TIME_SERIES_WEEKLY&symbol=AAPL&apikey=__API_KEY_Removed___.json\"\n",
    "___\n",
    "request2 = requests.get(base_url)\n",
    "\n",
    "reqjsona = request2.json()\n",
    "\n",
    "wts = reqjsona[\"Weekly Time Series\"]\n",
    "\n",
    "wts = {outer_key: {inner_key.replace(\". \", \"_\"): inner_val for inner_key, inner_val in outer_val.items()} for outer_key, outer_val in wts.items()}\n",
    "\n"
   ]
  },
  {
   "cell_type": "code",
   "execution_count": 16,
   "metadata": {},
   "outputs": [],
   "source": [
    "# establish connecttion parameters\n",
    "client = MongoClient('127.0.0.1', 27017)\n",
    "db_name = 'alpha'\n",
    "weeklytable = \"weeklycol\"\n",
    "\n",
    "\n",
    "\n",
    "# connect to the database\n",
    "db = client[db_name]\n",
    "weekcol = db[weeklytable]\n",
    "\n",
    "\n",
    "\n",
    "# main insertation script\n",
    "for t in wts:\n",
    "    bdic = {}\n",
    "    bdic.update(wts[t])\n",
    "    convertint(bdic)\n",
    "    \n",
    "    bdic[\"date\"] = convertdate(t)\n",
    "    curr_doc_date = bdic[\"date\"] \n",
    "    resultab = weekcol.find({\"date\": curr_doc_date})\n",
    "    results = list(resultab)\n",
    "    if len(results) == 0:\n",
    "        weekcol.insert_one(bdic)\n"
   ]
  },
  {
   "cell_type": "code",
   "execution_count": 17,
   "metadata": {},
   "outputs": [
    {
     "name": "stdout",
     "output_type": "stream",
     "text": [
      "{'_id': '', 'opening_avg': 175.06127712477397}\n",
      "{'_id': '', 'closing_avg': 175.75302224231464}\n",
      "{'_id': '', 'low_avg': 170.2181973779385}\n",
      "{'_id': '', 'high_avg': 180.71317043399637}\n"
     ]
    }
   ],
   "source": [
    "#average of all values example\n",
    "\n",
    "# open price average. \n",
    "openavg = weekcol.aggregate([\n",
    "    ## stage 1\n",
    "    {\"$match\":{}},\n",
    "    \n",
    "    \n",
    "    ## stage 2\n",
    "     {\"$group\":{\"_id\": \"\", \"opening_avg\": {\"$avg\" : \"$1_open\"}}}\n",
    "    \n",
    "])\n",
    "\n",
    "for opena in openavg: \n",
    "    print(opena)\n",
    "###############################################################################    \n",
    "# close price average. \n",
    "closeavg = weekcol.aggregate([\n",
    "    ## stage 1\n",
    "    {\"$match\":{}} ,\n",
    "    \n",
    "    \n",
    "    ## stage 2\n",
    "     {\"$group\":{\"_id\": \"\", \"closing_avg\": {\"$avg\" : \"$4_close\"}}}\n",
    "    \n",
    "])\n",
    "\n",
    "for closea in closeavg:\n",
    "    print(closea)\n",
    "\n",
    "    \n",
    "###############################################################################  \n",
    "\n",
    "# low price average. \n",
    "lowavg = weekcol.aggregate([\n",
    "    ## stage 1\n",
    "    {\"$match\":{}},\n",
    "    \n",
    "    \n",
    "    ## stage 2\n",
    "     {\"$group\":{\"_id\": \"\", \"low_avg\": {\"$avg\" : \"$3_low\"}}}\n",
    "    \n",
    "])\n",
    "\n",
    "for lowa in lowavg:\n",
    "    print(lowa)\n",
    "\n",
    "\n",
    "############################################################################### \n",
    "\n",
    "# Closing price average. \n",
    "highavg = weekcol.aggregate([\n",
    "    ## stage 1\n",
    "    {\"$match\":{}},\n",
    "    \n",
    "    \n",
    "    ## stage 2\n",
    "     {\"$group\":{\"_id\": \"\", \"high_avg\": {\"$avg\" : \"$2_high\"}}}\n",
    "    \n",
    "])\n",
    "\n",
    "for higha in highavg:\n",
    "    print(higha)\n"
   ]
  },
  {
   "cell_type": "code",
   "execution_count": 18,
   "metadata": {},
   "outputs": [],
   "source": [
    "aggpricing = {}\n",
    "\n",
    "aggpricing.update(opena)\n",
    "aggpricing.update(closea)\n",
    "aggpricing.update(lowa)\n",
    "aggpricing.update(higha)"
   ]
  },
  {
   "cell_type": "code",
   "execution_count": 19,
   "metadata": {},
   "outputs": [
    {
     "data": {
      "text/plain": [
       "{'opening_avg': 175.06127712477397,\n",
       " 'closing_avg': 175.75302224231464,\n",
       " 'low_avg': 170.2181973779385,\n",
       " 'high_avg': 180.71317043399637}"
      ]
     },
     "execution_count": 19,
     "metadata": {},
     "output_type": "execute_result"
    }
   ],
   "source": [
    "del aggpricing[\"_id\"]\n",
    "aggpricing"
   ]
  },
  {
   "cell_type": "code",
   "execution_count": 20,
   "metadata": {},
   "outputs": [
    {
     "data": {
      "text/plain": [
       "<BarContainer object of 4 artists>"
      ]
     },
     "execution_count": 20,
     "metadata": {},
     "output_type": "execute_result"
    },
    {
     "data": {
      "image/png": "[encoded data removed]",
      "text/plain": [
       "<Figure size 432x288 with 1 Axes>"
      ]
     },
     "metadata": {
      "needs_background": "light"
     },
     "output_type": "display_data"
    }
   ],
   "source": [
    "\n",
    "keys = aggpricing.keys()\n",
    "values = aggpricing.values()\n",
    "plt.bar(keys, values)\n",
    "plt.title(\"All time Averages\")"
   ]
  },
  {
   "cell_type": "code",
   "execution_count": 21,
   "metadata": {},
   "outputs": [
    {
     "name": "stdout",
     "output_type": "stream",
     "text": [
      "{'_id': ObjectId('5ff81ad1d02ecab08b899a21'), '1_open': 133.52, '2_high': 133.6116, '3_low': 126.382, '4_close': 130.92, '5_volume': 505632912.0, 'date': datetime.datetime(2021, 1, 7, 0, 0)}\n",
      "{'_id': ObjectId('5ff81ad1d02ecab08b899a22'), '1_open': 133.99, '2_high': 138.789, '3_low': 131.72, '4_close': 132.69, '5_volume': 439740666.0, 'date': datetime.datetime(2020, 12, 31, 0, 0)}\n",
      "{'_id': ObjectId('5ff976dab4562bd59df9596b'), '1_open': 133.52, '2_high': 133.6116, '3_low': 126.382, '4_close': 132.05, '5_volume': 610791157.0, 'date': datetime.datetime(2021, 1, 8, 0, 0)}\n"
     ]
    }
   ],
   "source": [
    "#works fine: find gte - lte date range - BUT Not through aggregation pipeline\n",
    "\n",
    "resultwww = weekcol.find({\n",
    "    \"$and\" : [{\n",
    "                 \"date\" : { \"$gt\" :datetime.datetime(2020, 12, 30, 0, 0, tzinfo=pytz.utc)}\n",
    "              },\n",
    "              {\n",
    "                   \"date\" : { \"$lt\" :datetime.datetime(2021, 1, 30, 0, 0, tzinfo=pytz.utc)}\n",
    "              }]\n",
    "})\n",
    "\n",
    "\n",
    "for ttt in resultwww:\n",
    "    print(ttt)"
   ]
  },
  {
   "cell_type": "code",
   "execution_count": 30,
   "metadata": {
    "collapsed": true
   },
   "outputs": [
    {
     "name": "stdout",
     "output_type": "stream",
     "text": [
      "{'_id': ObjectId('5ff81ad1d02ecab08b899a22'), '1_open': 133.99, '2_high': 138.789, '3_low': 131.72, '4_close': 132.69, '5_volume': 439740666.0, 'date': datetime.datetime(2020, 12, 31, 0, 0)}\n",
      "{'_id': ObjectId('5ff81ad1d02ecab08b899a23'), '1_open': 125.02, '2_high': 134.405, '3_low': 123.449, '4_close': 131.97, '5_volume': 433757134.0, 'date': datetime.datetime(2020, 12, 24, 0, 0)}\n",
      "{'_id': ObjectId('5ff81ad1d02ecab08b899a24'), '1_open': 122.6, '2_high': 129.58, '3_low': 121.54, '4_close': 126.655, '5_volume': 621758148.0, 'date': datetime.datetime(2020, 12, 18, 0, 0)}\n",
      "{'_id': ObjectId('5ff81ad1d02ecab08b899a25'), '1_open': 122.31, '2_high': 125.95, '3_low': 120.15, '4_close': 122.41, '5_volume': 452278651.0, 'date': datetime.datetime(2020, 12, 11, 0, 0)}\n",
      "{'_id': ObjectId('5ff81ad1d02ecab08b899a26'), '1_open': 116.97, '2_high': 123.78, '3_low': 116.81, '4_close': 122.25, '5_volume': 541563385.0, 'date': datetime.datetime(2020, 12, 4, 0, 0)}\n",
      "{'_id': ObjectId('5ff81ad1d02ecab08b899a27'), '1_open': 117.18, '2_high': 117.6202, '3_low': 112.59, '4_close': 116.59, '5_volume': 364376131.0, 'date': datetime.datetime(2020, 11, 27, 0, 0)}\n",
      "{'_id': ObjectId('5ff81ad1d02ecab08b899a28'), '1_open': 118.92, '2_high': 120.99, '3_low': 116.81, '4_close': 117.34, '5_volume': 389493361.0, 'date': datetime.datetime(2020, 11, 20, 0, 0)}\n",
      "{'_id': ObjectId('5ff81ad1d02ecab08b899a29'), '1_open': 120.5, '2_high': 121.99, '3_low': 114.13, '4_close': 119.26, '5_volume': 589872919.0, 'date': datetime.datetime(2020, 11, 13, 0, 0)}\n",
      "{'_id': ObjectId('5ff81ad1d02ecab08b899a2a'), '1_open': 109.11, '2_high': 119.62, '3_low': 107.32, '4_close': 118.69, '5_volume': 609571825.0, 'date': datetime.datetime(2020, 11, 6, 0, 0)}\n",
      "{'_id': ObjectId('5ff81ad1d02ecab08b899a2b'), '1_open': 114.01, '2_high': 117.28, '3_low': 107.72, '4_close': 108.86, '5_volume': 684767901.0, 'date': datetime.datetime(2020, 10, 30, 0, 0)}\n",
      "{'_id': ObjectId('5ff81ad1d02ecab08b899a2c'), '1_open': 119.96, '2_high': 120.419, '3_low': 114.28, '4_close': 115.04, '5_volume': 519569644.0, 'date': datetime.datetime(2020, 10, 23, 0, 0)}\n",
      "{'_id': ObjectId('5ff81ad1d02ecab08b899a2d'), '1_open': 120.06, '2_high': 125.39, '3_low': 118.15, '4_close': 119.02, '5_volume': 881572555.0, 'date': datetime.datetime(2020, 10, 16, 0, 0)}\n",
      "{'_id': ObjectId('5ff81ad1d02ecab08b899a2e'), '1_open': 113.91, '2_high': 117.0, '3_low': 112.25, '4_close': 116.97, '5_volume': 548575054.0, 'date': datetime.datetime(2020, 10, 9, 0, 0)}\n",
      "{'_id': ObjectId('5ff81ad1d02ecab08b899a2f'), '1_open': 115.01, '2_high': 117.72, '3_low': 112.22, '4_close': 113.02, '5_volume': 641240539.0, 'date': datetime.datetime(2020, 10, 2, 0, 0)}\n",
      "{'_id': ObjectId('5ff81ad1d02ecab08b899a30'), '1_open': 104.54, '2_high': 112.86, '3_low': 103.1, '4_close': 112.28, '5_volume': 847212649.0, 'date': datetime.datetime(2020, 9, 25, 0, 0)}\n",
      "{'_id': ObjectId('5ff81ad1d02ecab08b899a31'), '1_open': 114.72, '2_high': 118.829, '3_low': 106.09, '4_close': 106.84, '5_volume': 944934651.0, 'date': datetime.datetime(2020, 9, 18, 0, 0)}\n",
      "{'_id': ObjectId('5ff81ad1d02ecab08b899a32'), '1_open': 113.95, '2_high': 120.5, '3_low': 110.0, '4_close': 112.0, '5_volume': 771441734.0, 'date': datetime.datetime(2020, 9, 11, 0, 0)}\n",
      "{'_id': ObjectId('5ff81ad1d02ecab08b899a33'), '1_open': 127.58, '2_high': 137.98, '3_low': 110.89, '4_close': 120.96, '5_volume': 1166301669.0, 'date': datetime.datetime(2020, 9, 4, 0, 0)}\n",
      "{'_id': ObjectId('5ff81ad1d02ecab08b899a34'), '1_open': 514.79, '2_high': 515.14, '3_low': 492.21, '4_close': 499.23, '5_volume': 265909531.0, 'date': datetime.datetime(2020, 8, 28, 0, 0)}\n",
      "{'_id': ObjectId('5ff81ad1d02ecab08b899a35'), '1_open': 464.25, '2_high': 499.472, '3_low': 455.8501, '4_close': 497.48, '5_volume': 208464758.0, 'date': datetime.datetime(2020, 8, 21, 0, 0)}\n",
      "{'_id': ObjectId('5ff81ad1d02ecab08b899a36'), '1_open': 450.4, '2_high': 464.17, '3_low': 436.4267, '4_close': 459.63, '5_volume': 235474473.0, 'date': datetime.datetime(2020, 8, 14, 0, 0)}\n",
      "{'_id': ObjectId('5ff81ad1d02ecab08b899a37'), '1_open': 432.8, '2_high': 457.65, '3_low': 431.57, '4_close': 444.45, '5_volume': 250852555.0, 'date': datetime.datetime(2020, 8, 7, 0, 0)}\n",
      "{'_id': ObjectId('5ff81ad1d02ecab08b899a38'), '1_open': 374.84, '2_high': 425.66, '3_low': 372.99, '4_close': 425.04, '5_volume': 211898609.0, 'date': datetime.datetime(2020, 7, 31, 0, 0)}\n",
      "{'_id': ObjectId('5ff81ad1d02ecab08b899a39'), '1_open': 385.67, '2_high': 397.0, '3_low': 356.58, '4_close': 370.46, '5_volume': 165885792.0, 'date': datetime.datetime(2020, 7, 24, 0, 0)}\n",
      "{'_id': ObjectId('5ff81ad1d02ecab08b899a3a'), '1_open': 389.06, '2_high': 399.82, '3_low': 375.51, '4_close': 385.31, '5_volume': 179660754.0, 'date': datetime.datetime(2020, 7, 17, 0, 0)}\n",
      "{'_id': ObjectId('5ff81ad1d02ecab08b899a3b'), '1_open': 370.0, '2_high': 385.27, '3_low': 369.87, '4_close': 383.68, '5_volume': 141212101.0, 'date': datetime.datetime(2020, 7, 10, 0, 0)}\n",
      "{'_id': ObjectId('5ff81ad1d02ecab08b899a3c'), '1_open': 353.25, '2_high': 370.47, '3_low': 351.28, '4_close': 364.11, '5_volume': 124222310.0, 'date': datetime.datetime(2020, 7, 2, 0, 0)}\n",
      "{'_id': ObjectId('5ff81ad1d02ecab08b899a3d'), '1_open': 351.34, '2_high': 372.38, '3_low': 351.15, '4_close': 353.63, '5_volume': 220750873.0, 'date': datetime.datetime(2020, 6, 26, 0, 0)}\n",
      "{'_id': ObjectId('5ff81ad1d02ecab08b899a3e'), '1_open': 333.25, '2_high': 356.56, '3_low': 332.58, '4_close': 349.72, '5_volume': 194985086.0, 'date': datetime.datetime(2020, 6, 19, 0, 0)}\n",
      "{'_id': ObjectId('5ff81ad1d02ecab08b899a3f'), '1_open': 330.25, '2_high': 354.77, '3_low': 327.32, '4_close': 338.8, '5_volume': 202956789.0, 'date': datetime.datetime(2020, 6, 12, 0, 0)}\n",
      "{'_id': ObjectId('5ff81ad1d02ecab08b899a40'), '1_open': 317.75, '2_high': 331.75, '3_low': 317.21, '4_close': 331.5, '5_volume': 124490802.0, 'date': datetime.datetime(2020, 6, 5, 0, 0)}\n",
      "{'_id': ObjectId('5ff81ad2d02ecab08b899a41'), '1_open': 323.5, '2_high': 324.24, '3_low': 313.09, '4_close': 317.94, '5_volume': 131465363.0, 'date': datetime.datetime(2020, 5, 29, 0, 0)}\n",
      "{'_id': ObjectId('5ff81ad2d02ecab08b899a42'), '1_open': 313.17, '2_high': 320.89, '3_low': 310.32, '4_close': 318.89, '5_volume': 133274690.0, 'date': datetime.datetime(2020, 5, 22, 0, 0)}\n",
      "{'_id': ObjectId('5ff81ad2d02ecab08b899a43'), '1_open': 308.1, '2_high': 319.69, '3_low': 300.21, '4_close': 307.71, '5_volume': 208536826.0, 'date': datetime.datetime(2020, 5, 15, 0, 0)}\n",
      "{'_id': ObjectId('5ff81ad2d02ecab08b899a44'), '1_open': 289.17, '2_high': 310.35, '3_low': 286.32, '4_close': 310.13, '5_volume': 168228968.0, 'date': datetime.datetime(2020, 5, 8, 0, 0)}\n",
      "{'_id': ObjectId('5ff81ad2d02ecab08b899a45'), '1_open': 281.8, '2_high': 299.0, '3_low': 278.2, '4_close': 289.07, '5_volume': 197513427.0, 'date': datetime.datetime(2020, 5, 1, 0, 0)}\n",
      "{'_id': ObjectId('5ff81ad2d02ecab08b899a46'), '1_open': 277.95, '2_high': 283.01, '3_low': 265.43, '4_close': 282.97, '5_volume': 169846750.0, 'date': datetime.datetime(2020, 4, 24, 0, 0)}\n",
      "{'_id': ObjectId('5ff81ad2d02ecab08b899a47'), '1_open': 268.31, '2_high': 288.25, '3_low': 265.83, '4_close': 282.8, '5_volume': 207386812.0, 'date': datetime.datetime(2020, 4, 17, 0, 0)}\n",
      "{'_id': ObjectId('5ff81ad2d02ecab08b899a48'), '1_open': 250.9, '2_high': 271.7, '3_low': 249.38, '4_close': 267.99, '5_volume': 183929846.0, 'date': datetime.datetime(2020, 4, 9, 0, 0)}\n",
      "{'_id': ObjectId('5ff81ad2d02ecab08b899a49'), '1_open': 250.74, '2_high': 262.49, '3_low': 236.9, '4_close': 241.41, '5_volume': 209252759.0, 'date': datetime.datetime(2020, 4, 3, 0, 0)}\n",
      "{'_id': ObjectId('5ff81ad2d02ecab08b899a4a'), '1_open': 228.08, '2_high': 258.68, '3_low': 212.61, '4_close': 247.74, '5_volume': 346165813.0, 'date': datetime.datetime(2020, 3, 27, 0, 0)}\n",
      "{'_id': ObjectId('5ff81ad2d02ecab08b899a4b'), '1_open': 241.95, '2_high': 259.08, '3_low': 228.0, '4_close': 229.24, '5_volume': 405065837.0, 'date': datetime.datetime(2020, 3, 20, 0, 0)}\n",
      "{'_id': ObjectId('5ff81ad2d02ecab08b899a4c'), '1_open': 263.75, '2_high': 286.44, '3_low': 248.0, '4_close': 277.97, '5_volume': 404405247.0, 'date': datetime.datetime(2020, 3, 13, 0, 0)}\n",
      "{'_id': ObjectId('5ff81ad2d02ecab08b899a4d'), '1_open': 282.28, '2_high': 304.0, '3_low': 277.72, '4_close': 289.03, '5_volume': 323450224.0, 'date': datetime.datetime(2020, 3, 6, 0, 0)}\n",
      "{'_id': ObjectId('5ff81ad2d02ecab08b899a4e'), '1_open': 297.26, '2_high': 304.18, '3_low': 256.37, '4_close': 273.36, '5_volume': 349768234.0, 'date': datetime.datetime(2020, 2, 28, 0, 0)}\n",
      "{'_id': ObjectId('5ff81ad2d02ecab08b899a4f'), '1_open': 315.36, '2_high': 324.65, '3_low': 310.5, '4_close': 313.05, '5_volume': 119254440.0, 'date': datetime.datetime(2020, 2, 21, 0, 0)}\n",
      "{'_id': ObjectId('5ff81ad2d02ecab08b899a50'), '1_open': 314.18, '2_high': 327.22, '3_low': 313.85, '4_close': 324.95, '5_volume': 123065907.0, 'date': datetime.datetime(2020, 2, 14, 0, 0)}\n",
      "{'_id': ObjectId('5ff81ad2d02ecab08b899a51'), '1_open': 304.3, '2_high': 325.22, '3_low': 302.22, '4_close': 320.03, '5_volume': 163134650.0, 'date': datetime.datetime(2020, 2, 7, 0, 0)}\n",
      "{'_id': ObjectId('5ff81ad2d02ecab08b899a52'), '1_open': 310.06, '2_high': 327.85, '3_low': 304.88, '4_close': 309.51, '5_volume': 216776323.0, 'date': datetime.datetime(2020, 1, 31, 0, 0)}\n",
      "{'_id': ObjectId('5ff81ad2d02ecab08b899a53'), '1_open': 317.19, '2_high': 323.33, '3_low': 315.65, '4_close': 318.31, '5_volume': 115445527.0, 'date': datetime.datetime(2020, 1, 24, 0, 0)}\n",
      "{'_id': ObjectId('5ff81ad2d02ecab08b899a54'), '1_open': 311.64, '2_high': 318.74, '3_low': 309.55, '4_close': 318.73, '5_volume': 162824452.0, 'date': datetime.datetime(2020, 1, 17, 0, 0)}\n",
      "{'_id': ObjectId('5ff81ad2d02ecab08b899a55'), '1_open': 293.79, '2_high': 312.67, '3_low': 292.75, '4_close': 310.33, '5_volume': 168452059.0, 'date': datetime.datetime(2020, 1, 10, 0, 0)}\n",
      "{'_id': ObjectId('5ff81ad2d02ecab08b899a56'), '1_open': 289.46, '2_high': 300.6, '3_low': 285.22, '4_close': 297.43, '5_volume': 131852981.0, 'date': datetime.datetime(2020, 1, 3, 0, 0)}\n"
     ]
    }
   ],
   "source": [
    "# GT and LT date - working fine!!!!!!!!!!!!!!!\n",
    "betdate = weekcol.aggregate([\n",
    "    ## stage 1\n",
    "    {\"$match\":{\n",
    "  \n",
    "\"date\": {\"$gt\": datetime.datetime(2019, 12, 31, 0, 0, tzinfo=pytz.utc)}\n",
    "\n",
    "}}\n",
    "    ,\n",
    "    \n",
    "{\"$match\":{\n",
    "  \n",
    "\"date\": {\"$lt\": datetime.datetime(2021, 1, 1, 0, 0, tzinfo=pytz.utc)}\n",
    "\n",
    "}}\n",
    "    \n",
    "])\n",
    "\n",
    "for bdate in betdate:\n",
    "    print(bdate)\n",
    "    \n",
    "\n",
    "    \n"
   ]
  },
  {
   "cell_type": "code",
   "execution_count": 80,
   "metadata": {},
   "outputs": [],
   "source": [
    "# GT and LT date - working fine!!!!!!!!!!!!!!!\n",
    "betdate = weekcol.aggregate([\n",
    "    ## stage 1\n",
    "    {\"$match\":{\n",
    "  \n",
    "\"date\": {\"$gt\": datetime.datetime(2020, 11, 30, 0, 0, tzinfo=pytz.utc)}\n",
    "\n",
    "}}\n",
    "    ,\n",
    "    \n",
    "{\"$match\":{\n",
    "  \n",
    "\"date\": {\"$lt\": datetime.datetime(2020, 12, 31, 0, 0, tzinfo=pytz.utc)}\n",
    "\n",
    "}},\n",
    "    ## stage 2\n",
    "    {\n",
    "        \"$group\" : { \"_id\" : \"jan\",\n",
    "                     \"average_opening_price\" : {\n",
    "                         \"$avg\" : \"$1_open\"\n",
    "                     },\n",
    "                    \"average_closing_price\" : {\n",
    "                        \"$avg\" : \"$4_close\"\n",
    "                    }\n",
    "        } \n",
    "    }\n",
    "    \n",
    "])\n",
    "\n",
    "jandic = {}\n",
    "for bdate in betdate:\n",
    "   \n",
    "    jandic[\"Title\"] = bdate[\"_id\"]\n",
    "    jandic[\"Average_opening_price\"] = bdate[\"average_opening_price\"]\n",
    "    jandic[\"Average_closing_price\"] = bdate[\"average_closing_price\"]\n",
    "    \n",
    "\n",
    "    \n"
   ]
  },
  {
   "cell_type": "code",
   "execution_count": 82,
   "metadata": {},
   "outputs": [],
   "source": [
    "del jandic[\"Title\"]"
   ]
  },
  {
   "cell_type": "code",
   "execution_count": 85,
   "metadata": {},
   "outputs": [
    {
     "data": {
      "text/plain": [
       "Text(0.5, 1.0, 'January')"
      ]
     },
     "execution_count": 85,
     "metadata": {},
     "output_type": "execute_result"
    },
    {
     "data": {
      "image/png": "[encoded data removed]",
      "text/plain": [
       "<Figure size 432x288 with 1 Axes>"
      ]
     },
     "metadata": {
      "needs_background": "light"
     },
     "output_type": "display_data"
    }
   ],
   "source": [
    "keys = jandic.keys()\n",
    "values = jandic.values()\n",
    "plt.bar(keys, values)\n",
    "plt.title(\"January\")"
   ]
  },
  {
   "cell_type": "code",
   "execution_count": null,
   "metadata": {},
   "outputs": [],
   "source": []
  },
  {
   "cell_type": "code",
   "execution_count": null,
   "metadata": {},
   "outputs": [],
   "source": []
  },
  {
   "cell_type": "code",
   "execution_count": null,
   "metadata": {
    "collapsed": true
   },
   "outputs": [],
   "source": []
  },
  {
   "cell_type": "code",
   "execution_count": null,
   "metadata": {},
   "outputs": [],
   "source": []
  },
  {
   "cell_type": "code",
   "execution_count": null,
   "metadata": {},
   "outputs": [],
   "source": []
  },
  {
   "cell_type": "code",
   "execution_count": null,
   "metadata": {},
   "outputs": [],
   "source": []
  },
  {
   "cell_type": "code",
   "execution_count": null,
   "metadata": {},
   "outputs": [],
   "source": []
  }
 ],
 "metadata": {
  "kernelspec": {
   "display_name": "Python 3",
   "language": "python",
   "name": "python3"
  },
  "language_info": {
   "codemirror_mode": {
    "name": "ipython",
    "version": 3
   },
   "file_extension": ".py",
   "mimetype": "text/x-python",
   "name": "python",
   "nbconvert_exporter": "python",
   "pygments_lexer": "ipython3",
   "version": "3.7.8"
  }
 },
 "nbformat": 4,
 "nbformat_minor": 4
}
